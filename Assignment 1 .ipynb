{
  "nbformat": 4,
  "nbformat_minor": 0,
  "metadata": {
    "colab": {
      "name": "Untitled1.ipynb",
      "provenance": []
    },
    "kernelspec": {
      "name": "python3",
      "display_name": "Python 3"
    },
    "language_info": {
      "name": "python"
    }
  },
  "cells": [
    {
      "cell_type": "markdown",
      "source": [
        "**Assignment No 1 Ineuron**"
      ],
      "metadata": {
        "id": "_9VlipzrKmcs"
      }
    },
    {
      "cell_type": "markdown",
      "source": [
        "**1. In the below elements which of them are values or an expression? e.g.: - values can be integer or string and expressions will be mathematical operators.**"
      ],
      "metadata": {
        "id": "zE45jv5IKc51"
      }
    },
    {
      "cell_type": "markdown",
      "source": [
        "Ans]        i.\t*---------------------------- Expression\n",
        "\n",
        "\n",
        "ii.\t'hello'------------------- Value (String)\n",
        "\n",
        "\n",
        "iii.\t-87.8------------------- Value Integer (Floating Point Number)\n",
        "\n",
        "\n",
        "iv.\t-   ----------------------- Expression\n",
        "\n",
        "\n",
        "v.\t/ ------------------------- Expression\n",
        "\n",
        "\n",
        "vi.\t+------------------------- Expression\n",
        "\n",
        "\n",
        "vii.\t6 ------------------------ Value (Int)\n",
        "\n"
      ],
      "metadata": {
        "id": "pgpVzvMfKVXE"
      }
    },
    {
      "cell_type": "markdown",
      "source": [
        "**2. What is the difference between string and variable?**"
      ],
      "metadata": {
        "id": "4JkRv2U5KVvU"
      }
    },
    {
      "cell_type": "markdown",
      "source": [
        "Ans]  A Variable is a store of information, just like a container where we can store data and a String is a type of information you would store in a Variable. A String is usually words, enclosed with \"\". String can be written in different quotes such: \"Ineuron\", 'Ineuron'\n",
        "\n",
        "E.g., String a =\"Incredible India\" a is the Variable, and we declared it as a String, use the single = to assign the text to it.\n",
        "\n",
        "Means a= variable name and \"Incredible India” is a value of variable which is assign\n"
      ],
      "metadata": {
        "id": "mdxxcp-YKWE8"
      }
    },
    {
      "cell_type": "markdown",
      "source": [
        "**3. Describe three different data types.**\n"
      ],
      "metadata": {
        "id": "ZRlzgNghMR1c"
      }
    },
    {
      "cell_type": "markdown",
      "source": [
        "Ans] i.\tInteger (int) - It is the most common numeric data type used to store numbers without a fractional component. E.g., 25,35,45, -75 \n",
        "\n",
        "\n",
        "ii.\tString (str) - It is a sequence of characters and the most commonly used data type to store text. Additionally, a string can also include digits and symbols, however, it is always treated as text. E.g., ‘’India’’\n",
        "\n",
        "\n",
        "iii.\tList: The list is used for storing multiple data items in a single variable. E.g.  a = [ 45, 85,\"rahul\"]\n"
      ],
      "metadata": {
        "id": "Pnj88WvkMcV1"
      }
    },
    {
      "cell_type": "markdown",
      "source": [
        "**4. What is an expression made up of? What do all expressions do?**"
      ],
      "metadata": {
        "id": "l3hf_6P7MoGz"
      }
    },
    {
      "cell_type": "markdown",
      "source": [
        "Ans] Expression is made up with the combination of variables, values operators, etc. Expression is need to be evaluated. Ex. a-b-5"
      ],
      "metadata": {
        "id": "rOTjsLjXMuH0"
      }
    },
    {
      "cell_type": "markdown",
      "source": [
        "**5. This assignment statements, like spam = 10. What is the difference between an expression and a statement?**"
      ],
      "metadata": {
        "id": "eY0Hnq-0Myz8"
      }
    },
    {
      "cell_type": "markdown",
      "source": [
        "Ans] If you can print it, or assign it to a variable, it’s an expression. If you can’t, it’s a statement.\n",
        "\n",
        "\n",
        "Examples Here, spam = 10 is declaration. It is declared that the value of spam is assigned as 10. And if we print spam it will give 10 , hence it's a declaration.\n",
        "\n",
        "\n",
        "If we wish to perform any operations such as spam*spam , spam + 10, spam+spam, etc., then it will become as expression.\n"
      ],
      "metadata": {
        "id": "k6eoAfxwM3d9"
      }
    },
    {
      "cell_type": "markdown",
      "source": [
        "**6.  After running the following code, what does the variable bacon contain?** \n",
        "\n",
        "**bacon=22**\n",
        "\n",
        "**bacon+1?**\n",
        "\n",
        "\n",
        "\n"
      ],
      "metadata": {
        "id": "OenrdIbKNWQD"
      }
    },
    {
      "cell_type": "code",
      "source": [
        "bacon=22\n",
        "bacon+1  "
      ],
      "metadata": {
        "colab": {
          "base_uri": "https://localhost:8080/"
        },
        "id": "L7HQWvTlOLcL",
        "outputId": "4078da15-092c-41fc-e456-a16b78a6671a"
      },
      "execution_count": 5,
      "outputs": [
        {
          "output_type": "execute_result",
          "data": {
            "text/plain": [
              "23"
            ]
          },
          "metadata": {},
          "execution_count": 5
        }
      ]
    },
    {
      "cell_type": "markdown",
      "source": [
        "**7. What should the values of the following two terms be?**\n",
        "\n",
        "\n",
        "**'spam' + 'spamspam'**\n",
        "\n",
        "\n",
        "**'spam' * 3**\n"
      ],
      "metadata": {
        "id": "br55CqD3PkCL"
      }
    },
    {
      "cell_type": "code",
      "source": [
        "'spam'+'spamspam'\n",
        "'spam'*3"
      ],
      "metadata": {
        "colab": {
          "base_uri": "https://localhost:8080/",
          "height": 36
        },
        "id": "cdgB5v_fPxxL",
        "outputId": "f76c8375-49cc-4105-b35f-b1b7f1e9445e"
      },
      "execution_count": 9,
      "outputs": [
        {
          "output_type": "execute_result",
          "data": {
            "text/plain": [
              "'spamspamspam'"
            ],
            "application/vnd.google.colaboratory.intrinsic+json": {
              "type": "string"
            }
          },
          "metadata": {},
          "execution_count": 9
        }
      ]
    },
    {
      "cell_type": "markdown",
      "source": [
        "**8. Why is eggs a valid variable name while 100 is invalid?**\n",
        "\n",
        "Ans] Because giving variable name it has some rules which we have to follow we cannot start giving variable an integer name. If we have to do, we should begin with, a string-like alphabet name then integer \n",
        "\n",
        "\n",
        "e100=10, eggs100=10, _eggs=10, eggs_100=10\n"
      ],
      "metadata": {
        "id": "AILxpjL-Qma7"
      }
    },
    {
      "cell_type": "markdown",
      "source": [
        "**9. What three functions can be used to get the integer, floating-point number, or string version of a value?**\n",
        "\n",
        "Ans] i.\tint()…….. for integer\n",
        "\n",
        "ii.\tfloat()….. for floating-pointnumber\n",
        "\n",
        "iii.\tstr()……… for string\n"
      ],
      "metadata": {
        "id": "HNmo4AiKQ2G8"
      }
    },
    {
      "cell_type": "markdown",
      "source": [
        "**10. Why does this expression cause an error? How can you fix it?\n",
        "'I have eaten ' + 99 + ' burritos.'**\n",
        "\n",
        "Ans] It cause error because we cannot concatenate string with integer for that we need to typecast integer into string by str() or ''print('I have eaten ' + '99' + ' burritos')\n"
      ],
      "metadata": {
        "id": "NkVQ_DedRMc1"
      }
    },
    {
      "cell_type": "code",
      "source": [
        "print('I have eaten'+ str(99)+'burritos')\n",
        "print('I have eaten'+'99'+'burritos')"
      ],
      "metadata": {
        "colab": {
          "base_uri": "https://localhost:8080/"
        },
        "id": "F4rEdv_vR2ZJ",
        "outputId": "368a3f2a-0cc7-449e-d6b0-bfabd73f2973"
      },
      "execution_count": 12,
      "outputs": [
        {
          "output_type": "stream",
          "name": "stdout",
          "text": [
            "I have eaten99burritos\n",
            "I have eaten99burritos\n"
          ]
        }
      ]
    },
    {
      "cell_type": "markdown",
      "source": [
        ""
      ],
      "metadata": {
        "id": "gHdkeqJVOjzM"
      }
    }
  ]
}